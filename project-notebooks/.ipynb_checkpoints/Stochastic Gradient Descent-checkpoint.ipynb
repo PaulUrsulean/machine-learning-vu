{
 "cells": [
  {
   "cell_type": "markdown",
   "metadata": {},
   "source": [
    "## Load Training Data"
   ]
  },
  {
   "cell_type": "code",
   "execution_count": 2,
   "metadata": {},
   "outputs": [],
   "source": [
    "import numpy as np\n",
    "import pandas as pd\n",
    "import matplotlib.pyplot as plt\n",
    "from sklearn.feature_extraction.text import TfidfVectorizer, CountVectorizer, TfidfTransformer\n",
    "from sklearn.feature_selection import SelectPercentile, chi2\n",
    "from sklearn.naive_bayes import MultinomialNB\n",
    "from sklearn.metrics import roc_curve, auc\n",
    "from sklearn.pipeline import Pipeline, FeatureUnion\n",
    "from sklearn.model_selection import GridSearchCV\n",
    "from sklearn.linear_model import SGDClassifier\n",
    "\n",
    "%matplotlib inline\n",
    "\n",
    "# make plots look betters\n",
    "plt.style.use('ggplot')\n",
    "# plt.rcParams['figure.figsize'] = (8,6)\n",
    "# plt.rcParams['figure.dpi'] = (300)\n",
    "plt.rcParams['font.size'] = 12\n",
    "\n",
    "comments = pd.read_pickle('../toxic_comment_data/combined_train_data.csv')"
   ]
  },
  {
   "cell_type": "markdown",
   "metadata": {},
   "source": [
    "## Feature Extraction"
   ]
  },
  {
   "cell_type": "markdown",
   "metadata": {},
   "source": [
    "Previously, we only did feature extraction on the Comments column of the data frame, so we could just pass that directly to fit(). Now however, we would like to pass the whole data frame so we can extract particular features from it. Thus, we first we have to write some code to extract the information we want. The canonical way of doing this is with transformer extractor methods that can be used as part of a pipeline."
   ]
  },
  {
   "cell_type": "code",
   "execution_count": 3,
   "metadata": {},
   "outputs": [],
   "source": [
    "from sklearn.base import BaseEstimator, TransformerMixin\n",
    "\n",
    "# allows us to select a column by name from a data frame and return it as a nparray of type string\n",
    "class TextExtractor(BaseEstimator, TransformerMixin):\n",
    "    def __init__(self, column):\n",
    "        self.column = column\n",
    "\n",
    "    def transform(self, data):\n",
    "        return np.asarray(data[self.column]).astype(str)\n",
    "    \n",
    "    # not used\n",
    "    def fit(self, *_):\n",
    "        return self \n",
    "\n",
    "# allows us to select a column by name from a data frame and return it as a nparray of the specified type\n",
    "class ColumnExtractor(BaseEstimator, TransformerMixin):\n",
    "    def __init__(self, column, dtype):\n",
    "        self.dtype = dtype\n",
    "        self.column = column\n",
    "\n",
    "    def transform(self, data):\n",
    "        data = np.asarray(data[self.column]).astype(self.dtype)\n",
    "         \n",
    "        # note: reshaping is necessary because otherwise sklearn\n",
    "        # interprets 1-d array as a single sample\n",
    "        # reshapes from row vector to column vector\n",
    "        data = data.reshape(data.size, 1) \n",
    "        return data\n",
    "    \n",
    "    # not used\n",
    "    def fit(self, *_):\n",
    "        return self"
   ]
  },
  {
   "cell_type": "code",
   "execution_count": 4,
   "metadata": {},
   "outputs": [],
   "source": [
    "# these pipelines can be a mess so I tried to break it into manageable chunks\n",
    "\n",
    "# a separate pipeline can be created for each feature we extract\n",
    "# for one liners this isnt done, and instead the extractors are called in the feature union\n",
    "\n",
    "char_ngram_features = Pipeline([\n",
    "    ('extractor', TextExtractor('Comment')),\n",
    "    ('vectorizer', CountVectorizer(analyzer='char')),\n",
    "    ('tfidf', TfidfTransformer())\n",
    "])\n",
    "\n",
    "word_ngram_features = Pipeline([\n",
    "    ('extractor', TextExtractor('Comment')),\n",
    "    ('vectorizer', CountVectorizer(analyzer='word')),\n",
    "    ('tfidf', TfidfTransformer())\n",
    "])\n",
    "\n",
    "# the features combined\n",
    "features = FeatureUnion([\n",
    "    ('char_ngrams', char_ngram_features),\n",
    "    ('word_ngrams', word_ngram_features),\n",
    "    ('norm_length', ColumnExtractor('Norm_True_Length',float)),\n",
    "    ('weekday', ColumnExtractor('Weekday',int)),\n",
    "    ('day', ColumnExtractor('Day',int)),\n",
    "    ('month', ColumnExtractor('Month',int)),\n",
    "    ('year', ColumnExtractor('Year',int)),\n",
    "    ('hour', ColumnExtractor('Hour',int)),\n",
    "    ('minute', ColumnExtractor('Minute',int)),\n",
    "    ('second', ColumnExtractor('Second',int))\n",
    "])\n",
    "\n",
    "# set the classifier\n",
    "#--** this is where to change the classifier **--\n",
    "# The parameters are default values, if they are not given here we end up with ugly warnings later on\n",
    "classifier = SGDClassifier(max_iter=5, tol=None)\n",
    "\n",
    "# set the feature selection (these params can also be grid searched)\n",
    "select = SelectPercentile(score_func=chi2, percentile=25)\n",
    "\n",
    "pipeline = Pipeline([\n",
    "    ('union', features),\n",
    "    ('select', select),\n",
    "    ('classifier', classifier)\n",
    "])"
   ]
  },
  {
   "cell_type": "code",
   "execution_count": 4,
   "metadata": {},
   "outputs": [],
   "source": [
    "pipeline.fit(comments, comments.Insult);"
   ]
  },
  {
   "cell_type": "code",
   "execution_count": 5,
   "metadata": {},
   "outputs": [],
   "source": [
    "parameters = {'union__char_ngrams__vectorizer__ngram_range': [(1, 1), (1, 2)] # the range of the n-grams\n",
    "             }\n",
    "\n",
    "# the names are important, e.g. vect__ corresponds to the name given to the class in the pipeline,\n",
    "# while \"ngram_range\" is a parameter for the class, i.e. CountVectorizer\n",
    "\n",
    "gs_clf = GridSearchCV(pipeline, parameters, n_jobs=-1) # run the grid search on the chosen pipeline\n",
    "gs_clf = gs_clf.fit(comments, comments.Insult) "
   ]
  },
  {
   "cell_type": "code",
   "execution_count": 6,
   "metadata": {},
   "outputs": [
    {
     "name": "stdout",
     "output_type": "stream",
     "text": [
      "0.6819880418535127\n",
      "{'union__char_ngrams__vectorizer__ngram_range': (1, 1)}\n"
     ]
    }
   ],
   "source": [
    "print(gs_clf.best_score_)\n",
    "print(gs_clf.best_params_)"
   ]
  },
  {
   "cell_type": "markdown",
   "metadata": {},
   "source": [
    "## Grid Search Example"
   ]
  },
  {
   "cell_type": "markdown",
   "metadata": {},
   "source": [
    "Continuing from above, we already fit a NB classifier, and saw its accuracy. We now plot the ROC curve:"
   ]
  },
  {
   "cell_type": "markdown",
   "metadata": {},
   "source": [
    "Plot ROC:"
   ]
  },
  {
   "cell_type": "code",
   "execution_count": 6,
   "metadata": {},
   "outputs": [],
   "source": [
    "# make a function for plotting the roc\n",
    "def plot_roc(train_labels, predicted_labels):\n",
    "    false_positive_rate, true_positive_rate, thresholds = roc_curve(train_labels,predicted_labels)\n",
    "    roc_auc = auc(false_positive_rate, true_positive_rate)\n",
    "    \n",
    "    plt.title('Receiver Operating Characteristic')\n",
    "    plt.plot(false_positive_rate, true_positive_rate, 'b',\n",
    "    label='AUC = %0.2f'% roc_auc)\n",
    "    plt.legend(loc='lower right')\n",
    "    plt.plot([0,1],[0,1],'r--')\n",
    "    plt.xlim([-0.1,1.1])\n",
    "    plt.ylim([-0.1,1.1])\n",
    "    plt.ylabel('True Positive Rate')\n",
    "    plt.xlabel('False Positive Rate');"
   ]
  },
  {
   "cell_type": "markdown",
   "metadata": {},
   "source": [
    "Pretty awful. Now try doing some grid search:"
   ]
  },
  {
   "cell_type": "code",
   "execution_count": 8,
   "metadata": {
    "slideshow": {
     "slide_type": "slide"
    }
   },
   "outputs": [
    {
     "name": "stdout",
     "output_type": "stream",
     "text": [
      "3142.024595597002\n"
     ]
    }
   ],
   "source": [
    "from timeit import default_timer as timer\n",
    "\n",
    "start = timer() # start timer so we can see how long it takes\n",
    "\n",
    "# IF YOU RUN THIS AS IS IT WILL TAKE AN HOUR OR TWO TO FINISH\n",
    "parameters_ngrams = {\n",
    "                'union__char_ngrams__vectorizer__ngram_range': [(1, 1), (1, 2), (1,3)], # the range of the n-grams\n",
    "                'union__char_ngrams__vectorizer__stop_words': [None, 'english'], # remove stopwords or not\n",
    "                'union__char_ngrams__tfidf__use_idf': (True, False), # use idf or not\n",
    "                'union__word_ngrams__vectorizer__ngram_range': [(1, 1), (1, 2), (1,3)],\n",
    "                'union__word_ngrams__vectorizer__stop_words': [None, 'english'],\n",
    "                'union__word_ngrams__tfidf__use_idf': (True, False)\n",
    "             }\n",
    "\n",
    "parameters_classifier = {\n",
    "                'classifier__alpha' : [0.01, 0.001, 0.0001], # change alpha hyperparameter\n",
    "                'classifier__loss' : ['hinge', 'modified_huber', 'log'],\n",
    "                'classifier__penalty' : ['l2', 'l1', 'elasticnet'],\n",
    "                'classifier__max_iter': [1000, 2000, 4000],\n",
    "                'classifier__tol' : [None, 1e-3],\n",
    "                'select__percentile' : [10,20,40] # percentage of best features to select\n",
    "            }\n",
    "\n",
    "\n",
    "\n",
    "# The names here are very important. the intuition is that they follow from the pipeline hierarchy.\n",
    "# For example, to access the ngram_range parameter for CountVectorizer, you have to follow the hierarchy\n",
    "# starting at the feature union, and use the corresponding names with two '__' between each.\n",
    "\n",
    "# So the format is: name__name__(...)__parameter\n",
    "# The last name on the string e.g. \"ngram_range\" is a parameter for the class, in this case, CountVectorizer\n",
    "\n",
    "gs_clf_1 = GridSearchCV(pipeline, parameters_ngrams, n_jobs=-1) # run the grid search on the chosen pipeline\n",
    "gs_clf_2 = GridSearchCV(pipeline, parameters_classifier, n_jobs=-1)\n",
    "gs_clf_1 = gs_clf_1.fit(comments, comments.Insult)\n",
    "gs_clf_2 = gs_clf_2.fit(comments, comments.Insult) \n",
    "\n",
    "\n",
    "end = timer()\n",
    "print(end - start)"
   ]
  },
  {
   "cell_type": "code",
   "execution_count": 9,
   "metadata": {},
   "outputs": [
    {
     "name": "stdout",
     "output_type": "stream",
     "text": [
      "Training time: 0.87 hours\n"
     ]
    }
   ],
   "source": [
    "print(\"Training time:\", round((end-start)/60/60,2), \"hours\")"
   ]
  },
  {
   "cell_type": "markdown",
   "metadata": {},
   "source": [
    "Print out the best score found, and the parameters that go with it:"
   ]
  },
  {
   "cell_type": "code",
   "execution_count": 10,
   "metadata": {},
   "outputs": [
    {
     "name": "stdout",
     "output_type": "stream",
     "text": [
      "0.7088938714499252\n",
      "0.8292227204783259\n",
      "{'union__char_ngrams__tfidf__use_idf': False, 'union__char_ngrams__vectorizer__ngram_range': (1, 1), 'union__char_ngrams__vectorizer__stop_words': None, 'union__word_ngrams__tfidf__use_idf': False, 'union__word_ngrams__vectorizer__ngram_range': (1, 3), 'union__word_ngrams__vectorizer__stop_words': None}\n",
      "{'classifier__alpha': 0.0001, 'classifier__loss': 'hinge', 'classifier__max_iter': 4000, 'classifier__penalty': 'elasticnet', 'classifier__tol': None, 'select__percentile': 20}\n"
     ]
    }
   ],
   "source": [
    "print(gs_clf_1.best_score_)\n",
    "print(gs_clf_2.best_score_)\n",
    "print(gs_clf_1.best_params_)\n",
    "print(gs_clf_2.best_params_)"
   ]
  },
  {
   "cell_type": "markdown",
   "metadata": {},
   "source": [
    "See how the new classifier does on accuracy: (noticeable improvement)"
   ]
  },
  {
   "cell_type": "code",
   "execution_count": 26,
   "metadata": {},
   "outputs": [
    {
     "data": {
      "image/png": "[encoded data removed]",
      "text/plain": [
       "<matplotlib.figure.Figure at 0x113d242e8>"
      ]
     },
     "metadata": {},
     "output_type": "display_data"
    }
   ],
   "source": [
    "# Hardcoded the best features chosen above because I couldn't find a way to combine the two results otherwise.\n",
    "from timeit import default_timer as timer\n",
    "\n",
    "\n",
    "char_ngram_features = Pipeline([\n",
    "    ('extractor', TextExtractor('Comment')),\n",
    "    ('vectorizer', CountVectorizer(analyzer='char', stop_words=None, ngram_range = (1, 1))),\n",
    "    ('tfidf', TfidfTransformer(use_idf=False))\n",
    "])\n",
    "\n",
    "word_ngram_features = Pipeline([\n",
    "    ('extractor', TextExtractor('Comment')),\n",
    "    ('vectorizer', CountVectorizer(analyzer='word', stop_words=None, ngram_range = (1, 3))),\n",
    "    ('tfidf', TfidfTransformer(use_idf=False))\n",
    "])\n",
    "\n",
    "# the features combined\n",
    "features = FeatureUnion([\n",
    "    ('char_ngrams', char_ngram_features),\n",
    "    ('word_ngrams', word_ngram_features),\n",
    "    ('norm_length', ColumnExtractor('Norm_True_Length',float)),\n",
    "    ('weekday', ColumnExtractor('Weekday',int)),\n",
    "    ('day', ColumnExtractor('Day',int)),\n",
    "    ('month', ColumnExtractor('Month',int)),\n",
    "    ('year', ColumnExtractor('Year',int)),\n",
    "    ('hour', ColumnExtractor('Hour',int)),\n",
    "    ('minute', ColumnExtractor('Minute',int)),\n",
    "    ('second', ColumnExtractor('Second',int))\n",
    "])\n",
    "\n",
    "# set the classifier\n",
    "#--** this is where to change the classifier **--\n",
    "# The parameters are default values, if they are not given here we end up with ugly warnings later on\n",
    "\n",
    "# set the feature selection (these params can also be grid searched)\n",
    "select = SelectPercentile(score_func=chi2, percentile=20)\n",
    "\n",
    "\n",
    "classifier = SGDClassifier(max_iter=4000, tol=None, penalty='elasticnet', loss='hinge', alpha=0.0001)\n",
    "pipeline = Pipeline([\n",
    "    ('union', features),\n",
    "    ('select', select),\n",
    "    ('classifier', classifier)\n",
    "])\n",
    "\n",
    "\n",
    "# final_parameters = {\n",
    "#     'classifier__alpha' : [0.0001, 0.00001] # change alpha, test with even smaller\n",
    "# }\n",
    "\n",
    "# gs_clf_final = GridSearchCV(pipeline, final_parameters, n_jobs=-1) \n",
    "\n",
    "# gs_clf_final = gs_clf_final.fit(comments, comments.Insult)\n",
    "\n",
    "pipeline.fit(comments, comments.Insult)\n",
    "\n",
    "predicted = pipeline.predict(comments)\n",
    "plot_roc(comments.Insult, predicted)"
   ]
  },
  {
   "cell_type": "markdown",
   "metadata": {},
   "source": [
    "Model took a while to train, so we may wish to save for future use:"
   ]
  },
  {
   "cell_type": "code",
   "execution_count": null,
   "metadata": {},
   "outputs": [],
   "source": [
    "from sklearn.externals import joblib\n",
    "joblib.dump(gs_clf_final, 'SGDClassifier.pkl');"
   ]
  }
 ],
 "metadata": {
  "kernelspec": {
   "display_name": "Python 3",
   "language": "python",
   "name": "python3"
  },
  "language_info": {
   "codemirror_mode": {
    "name": "ipython",
    "version": 3
   },
   "file_extension": ".py",
   "mimetype": "text/x-python",
   "name": "python",
   "nbconvert_exporter": "python",
   "pygments_lexer": "ipython3",
   "version": "3.6.4"
  }
 },
 "nbformat": 4,
 "nbformat_minor": 2
}
