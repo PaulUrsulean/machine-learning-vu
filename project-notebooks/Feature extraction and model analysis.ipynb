{
 "cells": [
  {
   "cell_type": "markdown",
   "metadata": {},
   "source": [
    "## Load Training Data"
   ]
  },
  {
   "cell_type": "code",
   "execution_count": 1,
   "metadata": {
    "collapsed": true
   },
   "outputs": [],
   "source": [
    "import numpy as np\n",
    "import pandas as pd\n",
    "import matplotlib.pyplot as plt\n",
    "from sklearn.feature_extraction.text import TfidfVectorizer, CountVectorizer, TfidfTransformer\n",
    "from sklearn.feature_selection import SelectPercentile, chi2\n",
    "from sklearn.naive_bayes import MultinomialNB\n",
    "from sklearn.metrics import roc_curve, auc\n",
    "from sklearn.pipeline import Pipeline, FeatureUnion\n",
    "from sklearn.model_selection import GridSearchCV\n",
    "from sklearn.linear_model import LogisticRegression\n",
    "\n",
    "%matplotlib inline\n",
    "\n",
    "# make plots look betters\n",
    "plt.style.use('ggplot')\n",
    "# plt.rcParams['figure.figsize'] = (8,6)\n",
    "# plt.rcParams['figure.dpi'] = (300)\n",
    "plt.rcParams['font.size'] = 12\n",
    "\n",
    "comments = pd.read_pickle('../toxic_comment_data/combined_train_data.csv')"
   ]
  },
  {
   "cell_type": "markdown",
   "metadata": {},
   "source": [
    "Sanity check to make sure the data is as expected"
   ]
  },
  {
   "cell_type": "code",
   "execution_count": 2,
   "metadata": {},
   "outputs": [
    {
     "data": {
      "text/html": [
       "<div>\n",
       "<style>\n",
       "    .dataframe thead tr:only-child th {\n",
       "        text-align: right;\n",
       "    }\n",
       "\n",
       "    .dataframe thead th {\n",
       "        text-align: left;\n",
       "    }\n",
       "\n",
       "    .dataframe tbody tr th {\n",
       "        vertical-align: top;\n",
       "    }\n",
       "</style>\n",
       "<table border=\"1\" class=\"dataframe\">\n",
       "  <thead>\n",
       "    <tr style=\"text-align: right;\">\n",
       "      <th></th>\n",
       "      <th>Comment</th>\n",
       "      <th>Date</th>\n",
       "      <th>Insult</th>\n",
       "      <th>Raw_Length</th>\n",
       "      <th>True_Length</th>\n",
       "      <th>Norm_True_Length</th>\n",
       "      <th>Weekday</th>\n",
       "      <th>Day</th>\n",
       "      <th>Month</th>\n",
       "      <th>Year</th>\n",
       "      <th>Hour</th>\n",
       "      <th>Minute</th>\n",
       "      <th>Second</th>\n",
       "    </tr>\n",
       "  </thead>\n",
       "  <tbody>\n",
       "    <tr>\n",
       "      <th>0</th>\n",
       "      <td>\"You fuck your dad.\"</td>\n",
       "      <td>2012-06-18 19:21:55</td>\n",
       "      <td>1</td>\n",
       "      <td>20</td>\n",
       "      <td>20</td>\n",
       "      <td>0.001064</td>\n",
       "      <td>0</td>\n",
       "      <td>18</td>\n",
       "      <td>6</td>\n",
       "      <td>2012</td>\n",
       "      <td>19</td>\n",
       "      <td>21</td>\n",
       "      <td>55</td>\n",
       "    </tr>\n",
       "    <tr>\n",
       "      <th>1</th>\n",
       "      <td>\"i really don't understand your point.\\xa0 It ...</td>\n",
       "      <td>2012-05-28 19:22:15</td>\n",
       "      <td>0</td>\n",
       "      <td>92</td>\n",
       "      <td>89</td>\n",
       "      <td>0.006306</td>\n",
       "      <td>0</td>\n",
       "      <td>28</td>\n",
       "      <td>5</td>\n",
       "      <td>2012</td>\n",
       "      <td>19</td>\n",
       "      <td>22</td>\n",
       "      <td>15</td>\n",
       "    </tr>\n",
       "    <tr>\n",
       "      <th>2</th>\n",
       "      <td>\"C\\xe1c b\\u1ea1n xu\\u1ed1ng \\u0111\\u01b0\\u1edd...</td>\n",
       "      <td>2012-06-19 09:47:53</td>\n",
       "      <td>0</td>\n",
       "      <td>728</td>\n",
       "      <td>377</td>\n",
       "      <td>0.028187</td>\n",
       "      <td>1</td>\n",
       "      <td>19</td>\n",
       "      <td>6</td>\n",
       "      <td>2012</td>\n",
       "      <td>9</td>\n",
       "      <td>47</td>\n",
       "      <td>53</td>\n",
       "    </tr>\n",
       "    <tr>\n",
       "      <th>3</th>\n",
       "      <td>\"@SDL OK, but I would hope they'd sign him to ...</td>\n",
       "      <td>2012-06-20 17:12:26</td>\n",
       "      <td>0</td>\n",
       "      <td>245</td>\n",
       "      <td>245</td>\n",
       "      <td>0.018158</td>\n",
       "      <td>2</td>\n",
       "      <td>20</td>\n",
       "      <td>6</td>\n",
       "      <td>2012</td>\n",
       "      <td>17</td>\n",
       "      <td>12</td>\n",
       "      <td>26</td>\n",
       "    </tr>\n",
       "    <tr>\n",
       "      <th>4</th>\n",
       "      <td>\"Yeah and where are you now?\"</td>\n",
       "      <td>2012-05-03 01:26:28</td>\n",
       "      <td>0</td>\n",
       "      <td>29</td>\n",
       "      <td>29</td>\n",
       "      <td>0.001747</td>\n",
       "      <td>3</td>\n",
       "      <td>3</td>\n",
       "      <td>5</td>\n",
       "      <td>2012</td>\n",
       "      <td>1</td>\n",
       "      <td>26</td>\n",
       "      <td>28</td>\n",
       "    </tr>\n",
       "  </tbody>\n",
       "</table>\n",
       "</div>"
      ],
      "text/plain": [
       "                                             Comment                Date  \\\n",
       "0                               \"You fuck your dad.\" 2012-06-18 19:21:55   \n",
       "1  \"i really don't understand your point.\\xa0 It ... 2012-05-28 19:22:15   \n",
       "2  \"C\\xe1c b\\u1ea1n xu\\u1ed1ng \\u0111\\u01b0\\u1edd... 2012-06-19 09:47:53   \n",
       "3  \"@SDL OK, but I would hope they'd sign him to ... 2012-06-20 17:12:26   \n",
       "4                      \"Yeah and where are you now?\" 2012-05-03 01:26:28   \n",
       "\n",
       "   Insult  Raw_Length  True_Length  Norm_True_Length  Weekday  Day  Month  \\\n",
       "0       1          20           20          0.001064        0   18      6   \n",
       "1       0          92           89          0.006306        0   28      5   \n",
       "2       0         728          377          0.028187        1   19      6   \n",
       "3       0         245          245          0.018158        2   20      6   \n",
       "4       0          29           29          0.001747        3    3      5   \n",
       "\n",
       "   Year  Hour  Minute  Second  \n",
       "0  2012    19      21      55  \n",
       "1  2012    19      22      15  \n",
       "2  2012     9      47      53  \n",
       "3  2012    17      12      26  \n",
       "4  2012     1      26      28  "
      ]
     },
     "execution_count": 2,
     "metadata": {},
     "output_type": "execute_result"
    }
   ],
   "source": [
    "comments.head()"
   ]
  },
  {
   "cell_type": "code",
   "execution_count": 3,
   "metadata": {},
   "outputs": [
    {
     "data": {
      "image/png": "[encoded data removed]",
      "text/plain": [
       "<matplotlib.figure.Figure at 0x1df6baf0978>"
      ]
     },
     "metadata": {},
     "output_type": "display_data"
    }
   ],
   "source": [
    "ins = len(comments[comments['Insult'] == 1]) # number of insulting commments\n",
    "non = len(comments[comments['Insult'] == 0]) # number of non-insulting comments\n",
    "percents = [ins,non]\n",
    "\n",
    "labels = 'Insulting', 'Non-Insulting'\n",
    "colors = ['lightcoral', 'lightskyblue']\n",
    "explode = (0.1, 0)  # explode 1st slice\n",
    "\n",
    "plt.title(\"Percent of comments that are insulting\")\n",
    "plt.pie(percents, explode=explode, labels=labels, colors=colors,\n",
    "        autopct='%1.1f%%', startangle=180);"
   ]
  },
  {
   "cell_type": "markdown",
   "metadata": {},
   "source": [
    "## Feature Extraction"
   ]
  },
  {
   "cell_type": "markdown",
   "metadata": {},
   "source": [
    "Previously, we only did feature extraction on the Comments column of the data frame, so we could just pass that directly to fit(). Now however, we would like to pass the whole data frame so we can extract particular features from it. Thus, we first we have to write some code to extract the information we want. The canonical way of doing this is with transformer extractor methods that can be used as part of a pipeline."
   ]
  },
  {
   "cell_type": "code",
   "execution_count": 5,
   "metadata": {
    "collapsed": true
   },
   "outputs": [],
   "source": [
    "from sklearn.base import BaseEstimator, TransformerMixin\n",
    "\n",
    "# allows us to select a column by name from a data frame and return it as a nparray of type string\n",
    "class TextExtractor(BaseEstimator, TransformerMixin):\n",
    "    def __init__(self, column):\n",
    "        self.column = column\n",
    "\n",
    "    def transform(self, data):\n",
    "        return np.asarray(data[self.column]).astype(str)\n",
    "    \n",
    "    # not used\n",
    "    def fit(self, *_):\n",
    "        return self \n",
    "\n",
    "# allows us to select a column by name from a data frame and return it as a nparray of the specified type\n",
    "class ColumnExtractor(BaseEstimator, TransformerMixin):\n",
    "    def __init__(self, column, dtype):\n",
    "        self.dtype = dtype\n",
    "        self.column = column\n",
    "\n",
    "    def transform(self, data):\n",
    "        data = np.asarray(data[self.column]).astype(self.dtype)\n",
    "         \n",
    "        # note: reshaping is necessary because otherwise sklearn\n",
    "        # interprets 1-d array as a single sample\n",
    "        # reshapes from row vector to column vector\n",
    "        data = data.reshape(data.size, 1) \n",
    "        return data\n",
    "    \n",
    "    # not used\n",
    "    def fit(self, *_):\n",
    "        return self"
   ]
  },
  {
   "cell_type": "code",
   "execution_count": 6,
   "metadata": {
    "collapsed": true
   },
   "outputs": [],
   "source": [
    "# these pipelines can be a mess so I tried to break it into manageable chunks\n",
    "\n",
    "# a separate pipeline can be created for each feature we extract\n",
    "# for one liners this isnt done, and instead the extractors are called in the feature union\n",
    "\n",
    "char_ngram_features = Pipeline([\n",
    "    ('extractor', TextExtractor('Comment')),\n",
    "    ('vectorizer', CountVectorizer(analyzer='char')),\n",
    "    ('tfidf', TfidfTransformer())\n",
    "])\n",
    "\n",
    "word_ngram_features = Pipeline([\n",
    "    ('extractor', TextExtractor('Comment')),\n",
    "    ('vectorizer', CountVectorizer(analyzer='word')),\n",
    "    ('tfidf', TfidfTransformer())\n",
    "])\n",
    "\n",
    "# the features combined\n",
    "features = FeatureUnion([\n",
    "    ('char_ngrams', char_ngram_features),\n",
    "    ('word_ngrams', word_ngram_features),\n",
    "    ('norm_length', ColumnExtractor('Norm_True_Length',float)),\n",
    "    ('weekday', ColumnExtractor('Weekday',int)),\n",
    "    ('day', ColumnExtractor('Day',int)),\n",
    "    ('month', ColumnExtractor('Month',int)),\n",
    "    ('year', ColumnExtractor('Year',int)),\n",
    "    ('hour', ColumnExtractor('Hour',int)),\n",
    "    ('minute', ColumnExtractor('Minute',int)),\n",
    "    ('second', ColumnExtractor('Second',int))\n",
    "])\n",
    "\n",
    "# set the classifier\n",
    "#--** this is where to change the classifier **--\n",
    "classifier = MultinomialNB()\n",
    "\n",
    "# set the feature selection (these params can also be grid searched)\n",
    "select = SelectPercentile(score_func=chi2, percentile=25)\n",
    "\n",
    "pipeline = Pipeline([\n",
    "    ('union', features),\n",
    "    ('select', select),\n",
    "    ('classifier', classifier)\n",
    "])"
   ]
  },
  {
   "cell_type": "code",
   "execution_count": 7,
   "metadata": {
    "collapsed": true
   },
   "outputs": [],
   "source": [
    "pipeline.fit(comments, comments.Insult);"
   ]
  },
  {
   "cell_type": "code",
   "execution_count": 8,
   "metadata": {},
   "outputs": [
    {
     "data": {
      "text/plain": [
       "0.57002237136465328"
      ]
     },
     "execution_count": 8,
     "metadata": {},
     "output_type": "execute_result"
    }
   ],
   "source": [
    "test = pd.read_pickle(\"../toxic_comment_data/labeled_test_set_with_features.csv\")\n",
    "predicted = pipeline.predict(test)\n",
    "np.mean(predicted == test.Insult)"
   ]
  },
  {
   "cell_type": "code",
   "execution_count": null,
   "metadata": {
    "collapsed": true
   },
   "outputs": [],
   "source": [
    "parameters = {'union__char_ngrams__vectorizer__ngram_range': [(1, 1), (1, 2)] # the range of the n-grams\n",
    "             }\n",
    "\n",
    "# the names are important, e.g. vect__ corresponds to the name given to the class in the pipeline,\n",
    "# while \"ngram_range\" is a parameter for the class, i.e. CountVectorizer\n",
    "\n",
    "gs_clf = GridSearchCV(pipeline, parameters, n_jobs=-1) # run the grid search on the chosen pipeline\n",
    "gs_clf = gs_clf.fit(comments, comments.Insult) "
   ]
  },
  {
   "cell_type": "code",
   "execution_count": null,
   "metadata": {},
   "outputs": [],
   "source": [
    "print(gs_clf.best_score_)\n",
    "print(gs_clf.best_params_)"
   ]
  },
  {
   "cell_type": "code",
   "execution_count": null,
   "metadata": {},
   "outputs": [],
   "source": [
    "test = pd.read_pickle(\"../toxic_comment_data/labeled_test_set_with_features.csv\")\n",
    "predicted = gs_clf.predict(test)\n",
    "np.mean(predicted == test.Insult)"
   ]
  },
  {
   "cell_type": "markdown",
   "metadata": {},
   "source": [
    "## Grid Search Example"
   ]
  },
  {
   "cell_type": "markdown",
   "metadata": {},
   "source": [
    "Continuing from above, we already fit a NB classifier, and saw its accuracy. We now plot the ROC curve:"
   ]
  },
  {
   "cell_type": "markdown",
   "metadata": {},
   "source": [
    "Plot ROC:"
   ]
  },
  {
   "cell_type": "code",
   "execution_count": null,
   "metadata": {},
   "outputs": [],
   "source": [
    "# make a function for plotting the roc\n",
    "def plot_roc(test_labels, predicted_labels):\n",
    "    false_positive_rate, true_positive_rate, thresholds = roc_curve(test_labels,predicted_labels)\n",
    "    roc_auc = auc(false_positive_rate, true_positive_rate)\n",
    "    \n",
    "    plt.title('Receiver Operating Characteristic')\n",
    "    plt.plot(false_positive_rate, true_positive_rate, 'b',\n",
    "    label='AUC = %0.2f'% roc_auc)\n",
    "    plt.legend(loc='lower right')\n",
    "    plt.plot([0,1],[0,1],'r--')\n",
    "    plt.xlim([-0.1,1.1])\n",
    "    plt.ylim([-0.1,1.1])\n",
    "    plt.ylabel('True Positive Rate')\n",
    "    plt.xlabel('False Positive Rate');\n",
    "    \n",
    "plot_roc(test.Insult, predicted)"
   ]
  },
  {
   "cell_type": "markdown",
   "metadata": {},
   "source": [
    "Pretty awful. Now try doing some grid search:"
   ]
  },
  {
   "cell_type": "code",
   "execution_count": 12,
   "metadata": {
    "slideshow": {
     "slide_type": "slide"
    }
   },
   "outputs": [
    {
     "name": "stdout",
     "output_type": "stream",
     "text": [
      "15317.501227773988\n"
     ]
    }
   ],
   "source": [
    "from timeit import default_timer as timer\n",
    "\n",
    "start = timer() # start timer so we can see how long it takes\n",
    "\n",
    "# IF YOU RUN THIS AS IS IT WILL TAKE AN HOUR OR TWO TO FINISH\n",
    "parameters = {\n",
    "                'union__char_ngrams__vectorizer__ngram_range': [(1, 1), (1, 2), (1,3)], # the range of the n-grams\n",
    "                'union__char_ngrams__vectorizer__stop_words': [None, 'english'], # remove stopwords or not\n",
    "                'union__char_ngrams__tfidf__use_idf': (True, False), # use idf or not\n",
    "                'union__word_ngrams__vectorizer__ngram_range': [(1, 1), (1, 2), (1,3)],\n",
    "                'union__word_ngrams__vectorizer__stop_words': [None, 'english'],\n",
    "                'union__word_ngrams__tfidf__use_idf': (True, False),\n",
    "                'classifier__alpha' : [1, 0.50, .1, 0.01, 0.001], # change alpha hyperparameter\n",
    "                'select__percentile' : [1,5,10,20,50] # percentage of best features to select\n",
    "             }\n",
    "\n",
    "# The names here are very important. the intuition is that they follow from the pipeline hierarchy.\n",
    "# For example, to access the ngram_range parameter for CountVectorizer, you have to follow the hierarchy\n",
    "# starting at the feature union, and use the corresponding names with two '__' between each.\n",
    "\n",
    "# So the format is: name__name__(...)__parameter\n",
    "# The last name on the string e.g. \"ngram_range\" is a parameter for the class, in this case, CountVectorizer\n",
    "\n",
    "gs_clf = GridSearchCV(pipeline, parameters, n_jobs=-1) # run the grid search on the chosen pipeline\n",
    "gs_clf = gs_clf.fit(comments, comments.Insult) \n",
    "\n",
    "end = timer()\n",
    "print(end - start)"
   ]
  },
  {
   "cell_type": "code",
   "execution_count": 28,
   "metadata": {},
   "outputs": [
    {
     "name": "stdout",
     "output_type": "stream",
     "text": [
      "Training time: 4.25 hours\n"
     ]
    }
   ],
   "source": [
    "print(\"Training time:\", round((end-start)/60/60,2), \"hours\")"
   ]
  },
  {
   "cell_type": "markdown",
   "metadata": {},
   "source": [
    "Print out the best score found, and the parameters that go with it:"
   ]
  },
  {
   "cell_type": "code",
   "execution_count": 13,
   "metadata": {},
   "outputs": [
    {
     "name": "stdout",
     "output_type": "stream",
     "text": [
      "0.8118460388639761\n",
      "{'classifier__alpha': 0.01, 'select__percentile': 10, 'union__char_ngrams__tfidf__use_idf': True, 'union__char_ngrams__vectorizer__ngram_range': (1, 3), 'union__char_ngrams__vectorizer__stop_words': None, 'union__word_ngrams__tfidf__use_idf': False, 'union__word_ngrams__vectorizer__ngram_range': (1, 2), 'union__word_ngrams__vectorizer__stop_words': None}\n"
     ]
    }
   ],
   "source": [
    "print(gs_clf.best_score_)\n",
    "print(gs_clf.best_params_)"
   ]
  },
  {
   "cell_type": "markdown",
   "metadata": {},
   "source": [
    "See how the new classifier does on accuracy: (noticeable improvement)"
   ]
  },
  {
   "cell_type": "code",
   "execution_count": 15,
   "metadata": {},
   "outputs": [
    {
     "data": {
      "text/plain": [
       "0.661744966442953"
      ]
     },
     "execution_count": 15,
     "metadata": {},
     "output_type": "execute_result"
    }
   ],
   "source": [
    "test = pd.read_pickle(\"../toxic_comment_data/labeled_test_set_with_features.csv\")\n",
    "predicted = gs_clf.predict(test)\n",
    "np.mean(predicted == test.Insult)"
   ]
  },
  {
   "cell_type": "markdown",
   "metadata": {},
   "source": [
    "Plot new ROC: (noticeable improvement)"
   ]
  },
  {
   "cell_type": "code",
   "execution_count": 16,
   "metadata": {},
   "outputs": [
    {
     "data": {
      "image/png": "[encoded data removed]",
      "text/plain": [
       "<matplotlib.figure.Figure at 0x1117e0588>"
      ]
     },
     "metadata": {},
     "output_type": "display_data"
    }
   ],
   "source": [
    "plot_roc(test.Insult, predicted)"
   ]
  },
  {
   "cell_type": "markdown",
   "metadata": {},
   "source": [
    "Model took a while to train, so we may wish to save for future use:"
   ]
  },
  {
   "cell_type": "code",
   "execution_count": 17,
   "metadata": {
    "collapsed": true
   },
   "outputs": [],
   "source": [
    "from sklearn.externals import joblib\n",
    "# joblib.dump(gs_clf, 'first_try_select_NBClassifier.pkl'); #this one is already saved"
   ]
  },
  {
   "cell_type": "markdown",
   "metadata": {},
   "source": [
    "## Testing Overfitting Example"
   ]
  },
  {
   "cell_type": "markdown",
   "metadata": {},
   "source": [
    "wip"
   ]
  },
  {
   "cell_type": "code",
   "execution_count": null,
   "metadata": {
    "collapsed": true
   },
   "outputs": [],
   "source": []
  }
 ],
 "metadata": {
  "kernelspec": {
   "display_name": "Python 3",
   "language": "python",
   "name": "python3"
  },
  "language_info": {
   "codemirror_mode": {
    "name": "ipython",
    "version": 3
   },
   "file_extension": ".py",
   "mimetype": "text/x-python",
   "name": "python",
   "nbconvert_exporter": "python",
   "pygments_lexer": "ipython3",
   "version": "3.6.3"
  }
 },
 "nbformat": 4,
 "nbformat_minor": 2
}
