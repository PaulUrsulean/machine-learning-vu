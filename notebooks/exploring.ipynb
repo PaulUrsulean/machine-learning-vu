{
 "cells": [
  {
   "cell_type": "markdown",
   "metadata": {
    "slideshow": {
     "slide_type": "slide"
    }
   },
   "source": [
    "# First look at the data"
   ]
  },
  {
   "cell_type": "code",
   "execution_count": 1,
   "metadata": {
    "slideshow": {
     "slide_type": "skip"
    }
   },
   "outputs": [],
   "source": [
    "import numpy as np\n",
    "import pandas as pd\n",
    "import matplotlib.pyplot as plt\n",
    "from sklearn.feature_extraction.text import CountVectorizer\n",
    "\n",
    "%matplotlib inline"
   ]
  },
  {
   "cell_type": "code",
   "execution_count": 2,
   "metadata": {
    "slideshow": {
     "slide_type": "fragment"
    }
   },
   "outputs": [],
   "source": [
    "comments = pd.read_csv(\"../toxic_comment_data/sample_submission_null.csv\")\n",
    "# comments2 = pd.read_csv(\"../toxic_comment_data/test_with_solutions.csv\")\n",
    "# comments2 = comments2.drop(columns=[\"Usage\"])\n",
    "# comments = pd.concat([comments,comments2])"
   ]
  },
  {
   "cell_type": "markdown",
   "metadata": {
    "slideshow": {
     "slide_type": "fragment"
    }
   },
   "source": [
    "**Here we examine the training data (labeled with whether something is an insult or not). Some charming people.**"
   ]
  },
  {
   "cell_type": "code",
   "execution_count": 3,
   "metadata": {
    "slideshow": {
     "slide_type": "slide"
    }
   },
   "outputs": [
    {
     "name": "stdout",
     "output_type": "stream",
     "text": [
      "Rows: 2647\n",
      "Columns: 3\n",
      "Number of insulting comments: 0\n",
      "Number of non-insulting comments: 2647\n",
      "Number of comments missing dates: 524\n"
     ]
    },
    {
     "data": {
      "text/html": [
       "<div>\n",
       "<style scoped>\n",
       "    .dataframe tbody tr th:only-of-type {\n",
       "        vertical-align: middle;\n",
       "    }\n",
       "\n",
       "    .dataframe tbody tr th {\n",
       "        vertical-align: top;\n",
       "    }\n",
       "\n",
       "    .dataframe thead th {\n",
       "        text-align: right;\n",
       "    }\n",
       "</style>\n",
       "<table border=\"1\" class=\"dataframe\">\n",
       "  <thead>\n",
       "    <tr style=\"text-align: right;\">\n",
       "      <th></th>\n",
       "      <th>Insult</th>\n",
       "      <th>Date</th>\n",
       "      <th>Comment</th>\n",
       "    </tr>\n",
       "  </thead>\n",
       "  <tbody>\n",
       "    <tr>\n",
       "      <th>0</th>\n",
       "      <td>0</td>\n",
       "      <td>NaN</td>\n",
       "      <td>\"THE DRUDGE REPORT\\\\n\\\\n\\\\n\\\\nYou won't see th...</td>\n",
       "    </tr>\n",
       "    <tr>\n",
       "      <th>1</th>\n",
       "      <td>0</td>\n",
       "      <td>20120618222256Z</td>\n",
       "      <td>\"@ian21\\xa0\"Roger Clemens is the fucking man, ...</td>\n",
       "    </tr>\n",
       "    <tr>\n",
       "      <th>2</th>\n",
       "      <td>0</td>\n",
       "      <td>20120618213617Z</td>\n",
       "      <td>\"Agree with Alan you are an extremest idiot.  ...</td>\n",
       "    </tr>\n",
       "    <tr>\n",
       "      <th>3</th>\n",
       "      <td>0</td>\n",
       "      <td>NaN</td>\n",
       "      <td>\"Really?\\\\n\\\\nI see Marc Lamont Hill on variou...</td>\n",
       "    </tr>\n",
       "    <tr>\n",
       "      <th>4</th>\n",
       "      <td>0</td>\n",
       "      <td>20120620003825Z</td>\n",
       "      <td>\"Really suck isn't the word, when many of our ...</td>\n",
       "    </tr>\n",
       "    <tr>\n",
       "      <th>5</th>\n",
       "      <td>0</td>\n",
       "      <td>NaN</td>\n",
       "      <td>\"...after a couple guys like him rape him firs...</td>\n",
       "    </tr>\n",
       "    <tr>\n",
       "      <th>6</th>\n",
       "      <td>0</td>\n",
       "      <td>20120529201500Z</td>\n",
       "      <td>\"Matthews mentored Perry at USC.  Bodes well...\"</td>\n",
       "    </tr>\n",
       "    <tr>\n",
       "      <th>7</th>\n",
       "      <td>0</td>\n",
       "      <td>20120619145613Z</td>\n",
       "      <td>\"How about we accept facts and patiently wait ...</td>\n",
       "    </tr>\n",
       "    <tr>\n",
       "      <th>8</th>\n",
       "      <td>0</td>\n",
       "      <td>20120609165037Z</td>\n",
       "      <td>\"To engage in an intelligent debate with you i...</td>\n",
       "    </tr>\n",
       "    <tr>\n",
       "      <th>9</th>\n",
       "      <td>0</td>\n",
       "      <td>20120612145537Z</td>\n",
       "      <td>\"Same reason no one cared Obama did cocaine, w...</td>\n",
       "    </tr>\n",
       "  </tbody>\n",
       "</table>\n",
       "</div>"
      ],
      "text/plain": [
       "   Insult             Date                                            Comment\n",
       "0       0              NaN  \"THE DRUDGE REPORT\\\\n\\\\n\\\\n\\\\nYou won't see th...\n",
       "1       0  20120618222256Z  \"@ian21\\xa0\"Roger Clemens is the fucking man, ...\n",
       "2       0  20120618213617Z  \"Agree with Alan you are an extremest idiot.  ...\n",
       "3       0              NaN  \"Really?\\\\n\\\\nI see Marc Lamont Hill on variou...\n",
       "4       0  20120620003825Z  \"Really suck isn't the word, when many of our ...\n",
       "5       0              NaN  \"...after a couple guys like him rape him firs...\n",
       "6       0  20120529201500Z   \"Matthews mentored Perry at USC.  Bodes well...\"\n",
       "7       0  20120619145613Z  \"How about we accept facts and patiently wait ...\n",
       "8       0  20120609165037Z  \"To engage in an intelligent debate with you i...\n",
       "9       0  20120612145537Z  \"Same reason no one cared Obama did cocaine, w..."
      ]
     },
     "execution_count": 3,
     "metadata": {},
     "output_type": "execute_result"
    }
   ],
   "source": [
    "print(\"Rows: \" + str(comments.shape[0]))\n",
    "print(\"Columns: \" + str(comments.shape[1]))\n",
    "print(\"Number of insulting comments: \" + str(len(comments[comments['Insult'] == 1])))\n",
    "print(\"Number of non-insulting comments: \" + str(len(comments[comments['Insult'] == 0])))\n",
    "print(\"Number of comments missing dates: \" + str(comments.isnull().sum().Date))\n",
    "\n",
    "comments[0:10]"
   ]
  },
  {
   "cell_type": "markdown",
   "metadata": {
    "slideshow": {
     "slide_type": "slide"
    }
   },
   "source": [
    "**The comments are all unicode escaped, so inplace of special symbols there is some \\escapeCode. It can be decoded if necessary as shown below.**\n",
    "\n",
    "**Most of the data is english, but not all of it, not really a big deal though I suppose.**"
   ]
  },
  {
   "cell_type": "code",
   "execution_count": 4,
   "metadata": {
    "slideshow": {
     "slide_type": "fragment"
    }
   },
   "outputs": [
    {
     "name": "stdout",
     "output_type": "stream",
     "text": [
      "\"Really suck isn't the word, when many of our nuclear power plants start melting down, it will literally be hell on earth in the US and we have no one else to blame but our own CORRUPT GOVERNMENT!\"\n"
     ]
    }
   ],
   "source": [
    "sample_comment = comments.iloc[4].Comment\n",
    "print(sample_comment)"
   ]
  },
  {
   "cell_type": "code",
   "execution_count": 5,
   "metadata": {
    "slideshow": {
     "slide_type": "slide"
    }
   },
   "outputs": [
    {
     "name": "stdout",
     "output_type": "stream",
     "text": [
      "\"Really suck isn't the word, when many of our nuclear power plants start melting down, it will literally be hell on earth in the US and we have no one else to blame but our own CORRUPT GOVERNMENT!\"\n"
     ]
    }
   ],
   "source": [
    "decoded_comment = bytes(sample_comment, 'ascii').decode('unicode-escape')\n",
    "print(decoded_comment)"
   ]
  },
  {
   "cell_type": "markdown",
   "metadata": {
    "slideshow": {
     "slide_type": "notes"
    }
   },
   "source": [
    "**Lets add a column to the dataset that contains the length of every comment, we can use the built in method .str.len() from pandas, as opposed to doing something like len(x) where x is the comment string. This will deal with NaN cases automatically, were a string to not to be present for whatever reason. This also prevents a potential TypeError with standard len. **\n",
    "\n",
    "_Note: this length measurement obviously includes all the unicode escape characters, so I also created a new column \"True Length\" which represents the length you would expect if it was printed normally. This utilizes the function below._"
   ]
  },
  {
   "cell_type": "code",
   "execution_count": 6,
   "metadata": {
    "slideshow": {
     "slide_type": "fragment"
    }
   },
   "outputs": [],
   "source": [
    "def true_length(input):\n",
    "    if type(input) is str:\n",
    "        return len(bytes(input, 'ascii').decode('unicode-escape'))\n",
    "    else: \n",
    "        return -1 #arbitrary, should not ever happen with this dataset"
   ]
  },
  {
   "cell_type": "code",
   "execution_count": 7,
   "metadata": {
    "slideshow": {
     "slide_type": "slide"
    }
   },
   "outputs": [
    {
     "data": {
      "text/html": [
       "<div>\n",
       "<style scoped>\n",
       "    .dataframe tbody tr th:only-of-type {\n",
       "        vertical-align: middle;\n",
       "    }\n",
       "\n",
       "    .dataframe tbody tr th {\n",
       "        vertical-align: top;\n",
       "    }\n",
       "\n",
       "    .dataframe thead th {\n",
       "        text-align: right;\n",
       "    }\n",
       "</style>\n",
       "<table border=\"1\" class=\"dataframe\">\n",
       "  <thead>\n",
       "    <tr style=\"text-align: right;\">\n",
       "      <th></th>\n",
       "      <th>Insult</th>\n",
       "      <th>Date</th>\n",
       "      <th>Comment</th>\n",
       "      <th>Raw_Length</th>\n",
       "      <th>True_Length</th>\n",
       "    </tr>\n",
       "  </thead>\n",
       "  <tbody>\n",
       "    <tr>\n",
       "      <th>59</th>\n",
       "      <td>0</td>\n",
       "      <td>NaN</td>\n",
       "      <td>\"Right now, we supposedly have a 2 party state...</td>\n",
       "      <td>3004</td>\n",
       "      <td>2921</td>\n",
       "    </tr>\n",
       "    <tr>\n",
       "      <th>60</th>\n",
       "      <td>0</td>\n",
       "      <td>20120528180228Z</td>\n",
       "      <td>\"bluz i agree, love the way he can handle the ...</td>\n",
       "      <td>75</td>\n",
       "      <td>75</td>\n",
       "    </tr>\n",
       "    <tr>\n",
       "      <th>61</th>\n",
       "      <td>0</td>\n",
       "      <td>20120611200109Z</td>\n",
       "      <td>\"Killing them should be a last resort, \"I'm go...</td>\n",
       "      <td>154</td>\n",
       "      <td>152</td>\n",
       "    </tr>\n",
       "    <tr>\n",
       "      <th>62</th>\n",
       "      <td>0</td>\n",
       "      <td>20120612014408Z</td>\n",
       "      <td>\"And continuing on route 59 all the way to Nue...</td>\n",
       "      <td>56</td>\n",
       "      <td>56</td>\n",
       "    </tr>\n",
       "  </tbody>\n",
       "</table>\n",
       "</div>"
      ],
      "text/plain": [
       "    Insult             Date  \\\n",
       "59       0              NaN   \n",
       "60       0  20120528180228Z   \n",
       "61       0  20120611200109Z   \n",
       "62       0  20120612014408Z   \n",
       "\n",
       "                                              Comment  Raw_Length  True_Length  \n",
       "59  \"Right now, we supposedly have a 2 party state...        3004         2921  \n",
       "60  \"bluz i agree, love the way he can handle the ...          75           75  \n",
       "61  \"Killing them should be a last resort, \"I'm go...         154          152  \n",
       "62  \"And continuing on route 59 all the way to Nue...          56           56  "
      ]
     },
     "execution_count": 7,
     "metadata": {},
     "output_type": "execute_result"
    }
   ],
   "source": [
    "comments['Raw_Length']  = comments['Comment'].str.len()\n",
    "comments['True_Length'] = comments['Comment'].apply(lambda x: true_length(x))\n",
    "\n",
    "comments[59:63]"
   ]
  },
  {
   "cell_type": "markdown",
   "metadata": {
    "slideshow": {
     "slide_type": "slide"
    }
   },
   "source": [
    "**Just wanted to try normalizing the length...**"
   ]
  },
  {
   "cell_type": "code",
   "execution_count": 8,
   "metadata": {
    "slideshow": {
     "slide_type": "fragment"
    }
   },
   "outputs": [
    {
     "data": {
      "text/html": [
       "<div>\n",
       "<style scoped>\n",
       "    .dataframe tbody tr th:only-of-type {\n",
       "        vertical-align: middle;\n",
       "    }\n",
       "\n",
       "    .dataframe tbody tr th {\n",
       "        vertical-align: top;\n",
       "    }\n",
       "\n",
       "    .dataframe thead th {\n",
       "        text-align: right;\n",
       "    }\n",
       "</style>\n",
       "<table border=\"1\" class=\"dataframe\">\n",
       "  <thead>\n",
       "    <tr style=\"text-align: right;\">\n",
       "      <th></th>\n",
       "      <th>Insult</th>\n",
       "      <th>Date</th>\n",
       "      <th>Comment</th>\n",
       "      <th>Raw_Length</th>\n",
       "      <th>True_Length</th>\n",
       "      <th>Norm_True_Length</th>\n",
       "    </tr>\n",
       "  </thead>\n",
       "  <tbody>\n",
       "    <tr>\n",
       "      <th>75</th>\n",
       "      <td>0</td>\n",
       "      <td>20120619033759Z</td>\n",
       "      <td>\"@foxrock66 Why would you throw something like...</td>\n",
       "      <td>366</td>\n",
       "      <td>366</td>\n",
       "      <td>0.027351</td>\n",
       "    </tr>\n",
       "    <tr>\n",
       "      <th>76</th>\n",
       "      <td>0</td>\n",
       "      <td>20120611222308Z</td>\n",
       "      <td>\"If it's wrong to be ageist, why do we have a ...</td>\n",
       "      <td>73</td>\n",
       "      <td>73</td>\n",
       "      <td>0.005090</td>\n",
       "    </tr>\n",
       "    <tr>\n",
       "      <th>77</th>\n",
       "      <td>0</td>\n",
       "      <td>20120529211537Z</td>\n",
       "      <td>\"Would probably be cheaper just to legally cha...</td>\n",
       "      <td>61</td>\n",
       "      <td>61</td>\n",
       "      <td>0.004179</td>\n",
       "    </tr>\n",
       "  </tbody>\n",
       "</table>\n",
       "</div>"
      ],
      "text/plain": [
       "    Insult             Date  \\\n",
       "75       0  20120619033759Z   \n",
       "76       0  20120611222308Z   \n",
       "77       0  20120529211537Z   \n",
       "\n",
       "                                              Comment  Raw_Length  \\\n",
       "75  \"@foxrock66 Why would you throw something like...         366   \n",
       "76  \"If it's wrong to be ageist, why do we have a ...          73   \n",
       "77  \"Would probably be cheaper just to legally cha...          61   \n",
       "\n",
       "    True_Length  Norm_True_Length  \n",
       "75          366          0.027351  \n",
       "76           73          0.005090  \n",
       "77           61          0.004179  "
      ]
     },
     "execution_count": 8,
     "metadata": {},
     "output_type": "execute_result"
    }
   ],
   "source": [
    "col_max = comments['True_Length'].max()\n",
    "col_min = comments['True_Length'].min()\n",
    "comments['Norm_True_Length'] = comments['True_Length'].apply(lambda x: (x-col_min)/(col_max-col_min))\n",
    "comments[75:78]"
   ]
  },
  {
   "cell_type": "markdown",
   "metadata": {
    "slideshow": {
     "slide_type": "fragment"
    }
   },
   "source": [
    "**Sanity check to verify that the min value has norm length 0, and max value has norm length 1:**"
   ]
  },
  {
   "cell_type": "code",
   "execution_count": 9,
   "metadata": {
    "slideshow": {
     "slide_type": "fragment"
    }
   },
   "outputs": [
    {
     "name": "stdout",
     "output_type": "stream",
     "text": [
      "Minimum length: 6       normalized: 0.0\n",
      "Maximum length: 13168   normalized: 1.0\n"
     ]
    }
   ],
   "source": [
    "maxv = comments.iloc[comments['True_Length'].idxmax()].Norm_True_Length\n",
    "minv = comments.iloc[comments['True_Length'].idxmin()].Norm_True_Length\n",
    "print(\"Minimum length:\",comments['True_Length'].min(),\"      normalized:\",minv)\n",
    "print(\"Maximum length:\",comments['True_Length'].max(),\"  normalized:\",maxv)"
   ]
  },
  {
   "cell_type": "markdown",
   "metadata": {
    "slideshow": {
     "slide_type": "slide"
    }
   },
   "source": [
    "# Comments"
   ]
  },
  {
   "cell_type": "code",
   "execution_count": 10,
   "metadata": {
    "slideshow": {
     "slide_type": "fragment"
    }
   },
   "outputs": [
    {
     "data": {
      "image/png": "[encoded data removed]",
      "text/plain": [
       "<matplotlib.figure.Figure at 0x1117601d0>"
      ]
     },
     "metadata": {},
     "output_type": "display_data"
    }
   ],
   "source": [
    "plt.hist(comments.True_Length,color=\"purple\",bins=100)\n",
    "plt.xlabel('Length of comment in characters')\n",
    "plt.ylabel('Number of occurences')\n",
    "plt.title('Comment length distribution');"
   ]
  },
  {
   "cell_type": "markdown",
   "metadata": {
    "slideshow": {
     "slide_type": "fragment"
    }
   },
   "source": [
    "Clearly, a vast majority of the comments are less than 2500 characters in length..."
   ]
  },
  {
   "cell_type": "code",
   "execution_count": 11,
   "metadata": {
    "slideshow": {
     "slide_type": "slide"
    }
   },
   "outputs": [
    {
     "data": {
      "image/png": "[encoded data removed]",
      "text/plain": [
       "<matplotlib.figure.Figure at 0x110e87668>"
      ]
     },
     "metadata": {},
     "output_type": "display_data"
    }
   ],
   "source": [
    "plt.boxplot(comments[comments['True_Length'] < 5000].True_Length,1,'',0)\n",
    "plt.title(\"Boxplot of comment length (outliers removed)\")\n",
    "plt.ylabel(\"Comment\")\n",
    "plt.xlabel(\"Length\");"
   ]
  },
  {
   "cell_type": "code",
   "execution_count": 12,
   "metadata": {
    "slideshow": {
     "slide_type": "fragment"
    }
   },
   "outputs": [
    {
     "name": "stdout",
     "output_type": "stream",
     "text": [
      "Longest comment:  13168 characters\n",
      "Shortest comment: 6 characters\n",
      "Average:          194 characters\n",
      "Median:          103 characters\n"
     ]
    }
   ],
   "source": [
    "print(\"Longest comment:  \" + str(comments['True_Length'].max()) + \" characters\")\n",
    "print(\"Shortest comment: \" + str(comments['True_Length'].min()) + \" characters\")\n",
    "print(\"Average:          \" + str(round(comments.True_Length.mean())) + \" characters\")\n",
    "print(\"Median:          \" + str(round(comments.True_Length.median())) + \" characters\")"
   ]
  },
  {
   "cell_type": "code",
   "execution_count": 13,
   "metadata": {},
   "outputs": [
    {
     "ename": "TypeError",
     "evalue": "'AxesSubplot' object does not support indexing",
     "output_type": "error",
     "traceback": [
      "\u001b[0;31m---------------------------------------------------------------------------\u001b[0m",
      "\u001b[0;31mTypeError\u001b[0m                                 Traceback (most recent call last)",
      "\u001b[0;32m<ipython-input-13-dc2d96a73916>\u001b[0m in \u001b[0;36m<module>\u001b[0;34m()\u001b[0m\n\u001b[1;32m      1\u001b[0m \u001b[0;31m#experimenting, plotting length by whether its an insult or not\u001b[0m\u001b[0;34m\u001b[0m\u001b[0;34m\u001b[0m\u001b[0m\n\u001b[1;32m      2\u001b[0m \u001b[0max\u001b[0m \u001b[0;34m=\u001b[0m \u001b[0mcomments\u001b[0m\u001b[0;34m.\u001b[0m\u001b[0mhist\u001b[0m\u001b[0;34m(\u001b[0m\u001b[0mcolumn\u001b[0m\u001b[0;34m=\u001b[0m\u001b[0;34m'True_Length'\u001b[0m\u001b[0;34m,\u001b[0m\u001b[0mby\u001b[0m \u001b[0;34m=\u001b[0m\u001b[0;34m'Insult'\u001b[0m\u001b[0;34m,\u001b[0m\u001b[0mbins\u001b[0m\u001b[0;34m=\u001b[0m\u001b[0;36m100\u001b[0m\u001b[0;34m,\u001b[0m\u001b[0mfigsize\u001b[0m \u001b[0;34m=\u001b[0m \u001b[0;34m(\u001b[0m\u001b[0;36m10\u001b[0m\u001b[0;34m,\u001b[0m\u001b[0;36m4\u001b[0m\u001b[0;34m)\u001b[0m\u001b[0;34m)\u001b[0m\u001b[0;34m\u001b[0m\u001b[0m\n\u001b[0;32m----> 3\u001b[0;31m \u001b[0max\u001b[0m\u001b[0;34m[\u001b[0m\u001b[0;36m0\u001b[0m\u001b[0;34m]\u001b[0m\u001b[0;34m.\u001b[0m\u001b[0mset_xlim\u001b[0m\u001b[0;34m(\u001b[0m\u001b[0;36m0\u001b[0m\u001b[0;34m,\u001b[0m\u001b[0;36m2000\u001b[0m\u001b[0;34m)\u001b[0m\u001b[0;34m\u001b[0m\u001b[0m\n\u001b[0m\u001b[1;32m      4\u001b[0m \u001b[0max\u001b[0m\u001b[0;34m[\u001b[0m\u001b[0;36m1\u001b[0m\u001b[0;34m]\u001b[0m\u001b[0;34m.\u001b[0m\u001b[0mset_xlim\u001b[0m\u001b[0;34m(\u001b[0m\u001b[0;36m0\u001b[0m\u001b[0;34m,\u001b[0m\u001b[0;36m2000\u001b[0m\u001b[0;34m)\u001b[0m\u001b[0;34m\u001b[0m\u001b[0m\n\u001b[1;32m      5\u001b[0m \u001b[0max\u001b[0m\u001b[0;34m[\u001b[0m\u001b[0;36m0\u001b[0m\u001b[0;34m]\u001b[0m\u001b[0;34m.\u001b[0m\u001b[0mset_ylim\u001b[0m\u001b[0;34m(\u001b[0m\u001b[0;36m0\u001b[0m\u001b[0;34m,\u001b[0m\u001b[0;36m3500\u001b[0m\u001b[0;34m)\u001b[0m\u001b[0;34m\u001b[0m\u001b[0m\n",
      "\u001b[0;31mTypeError\u001b[0m: 'AxesSubplot' object does not support indexing"
     ]
    },
    {
     "data": {
      "image/png": "[encoded data removed]",
      "text/plain": [
       "<matplotlib.figure.Figure at 0x1178f7cc0>"
      ]
     },
     "metadata": {},
     "output_type": "display_data"
    }
   ],
   "source": [
    "#experimenting, plotting length by whether its an insult or not\n",
    "ax = comments.hist(column='True_Length',by ='Insult',bins=100,figsize = (10,4))\n",
    "ax[0].set_xlim(0,2000)\n",
    "ax[1].set_xlim(0,2000)\n",
    "ax[0].set_ylim(0,3500)\n",
    "ax[1].set_ylim(0,3500);"
   ]
  },
  {
   "cell_type": "code",
   "execution_count": null,
   "metadata": {
    "slideshow": {
     "slide_type": "slide"
    }
   },
   "outputs": [],
   "source": [
    "ins = len(comments[comments['Insult'] == 1]) # number of insulting commments\n",
    "non = len(comments[comments['Insult'] == 0]) # number of non-insulting comments\n",
    "percents = [ins,non]\n",
    "\n",
    "labels = 'Insulting', 'Non-Insulting'\n",
    "colors = ['lightcoral', 'lightskyblue']\n",
    "explode = (0.1, 0)  # explode 1st slice\n",
    "\n",
    "plt.title(\"Percent of comments that are insulting\")\n",
    "plt.pie(percents, explode=explode, labels=labels, colors=colors,\n",
    "        autopct='%1.1f%%', startangle=180);"
   ]
  },
  {
   "cell_type": "markdown",
   "metadata": {
    "slideshow": {
     "slide_type": "slide"
    }
   },
   "source": [
    "# Common techniques for dealing with textual data"
   ]
  },
  {
   "cell_type": "markdown",
   "metadata": {},
   "source": [
    "Text needs special preparation before using it for predictive modeling. Usually have to convert text to numbers in some way.\n",
    "\n",
    "The most common way of working with textual data is to utilize the \"Bag of Words\" model. Each text segment gets split into words, and we count every time a word appears in each segment. Each word then gets assigned an integer ID. \n",
    "\n",
    "After transforming the text into a bag of words, there are various calculations and measurements that can be performed on the text.\n",
    "\n",
    "- **Term frequency:** how many times a term appears in the texts\n",
    "- **TF-IDF:** normalizes standard term frequency by taking into account how often words appear in general.\n",
    "- **N-grams:** The traditional bag of words model preserves no spatial information, i.e. that certain words may follow each other. The n-gram model can be used to help remedy this, by storing words in groups of n. The basic bag of words model takes n=1, and thus is a 'unigram' model. Bigram models and above can help restore spatial information.\n",
    "\n",
    "sklearn has some stuff:\n",
    "\n",
    "- Convert text to word count vectors: **CountVectorizer**\n",
    "- Convert text to word frequency vectors: **TfidfVectorizer**\n",
    "- Convert text to unique integers: **HashingVectorizer**"
   ]
  },
  {
   "cell_type": "markdown",
   "metadata": {},
   "source": [
    "Example of a standard (unigram) bag of words:"
   ]
  },
  {
   "cell_type": "code",
   "execution_count": null,
   "metadata": {},
   "outputs": [],
   "source": [
    "vectorizer = CountVectorizer()\n",
    "analyze = vectorizer.build_analyzer()\n",
    "\n",
    "text = comments.iloc[9].Comment # load comment number 9\n",
    "print(text,\"\\n\")\n",
    "print(analyze(text)) "
   ]
  },
  {
   "cell_type": "markdown",
   "metadata": {},
   "source": [
    "Example of bigrams: "
   ]
  },
  {
   "cell_type": "code",
   "execution_count": null,
   "metadata": {},
   "outputs": [],
   "source": [
    "bigram_vectorizer = CountVectorizer(ngram_range=(1, 2))\n",
    "analyze = bigram_vectorizer.build_analyzer()\n",
    "\n",
    "text = comments.iloc[9].Comment # load comment number 9\n",
    "print(text,\"\\n\")\n",
    "print(analyze(text)) "
   ]
  },
  {
   "cell_type": "markdown",
   "metadata": {},
   "source": [
    "Example counting word occurences: "
   ]
  },
  {
   "cell_type": "code",
   "execution_count": null,
   "metadata": {},
   "outputs": [],
   "source": [
    "vectorizer = CountVectorizer()\n",
    "\n",
    "corpus = comments.Comment[8:10].as_matrix() # load comments 8 to 10\n",
    "corpus = np.append(corpus,\"you you you you you you you\") # add a bunch of 'yous' to make counts obvious\n",
    "\n",
    "print(\"Original documents:\\n\",corpus,\"\\n\")\n",
    "counts = vectorizer.fit_transform(corpus).toarray()\n",
    "print(\"Dictionary of words:\\n\",vectorizer.get_feature_names(),\"\\n\")\n",
    "print(\"Word frequency from dictionary, per document:\\n\",counts)"
   ]
  },
  {
   "cell_type": "markdown",
   "metadata": {},
   "source": [
    "# Potentially helpful commands I just want to remember"
   ]
  },
  {
   "cell_type": "code",
   "execution_count": null,
   "metadata": {},
   "outputs": [],
   "source": [
    "comments['True_Length'].min() # finds the minimum value of specified column\n",
    "comments['True_Length'].idxmin() # finds the index of the minimum value of specified column\n",
    "comments[comments.True_Length < 2500].count().True_Length # search by some value and return the number matching\n",
    "comments.isnull().sum().Date # count how many date fields have missing values\n",
    "comments.Comment[5:10].as_matrix() # gets the comments from locs 5-10 as an array of strings\n",
    "\n",
    "print(\"end\")"
   ]
  }
 ],
 "metadata": {
  "kernelspec": {
   "display_name": "Python 3",
   "language": "python",
   "name": "python3"
  },
  "language_info": {
   "codemirror_mode": {
    "name": "ipython",
    "version": 3
   },
   "file_extension": ".py",
   "mimetype": "text/x-python",
   "name": "python",
   "nbconvert_exporter": "python",
   "pygments_lexer": "ipython3",
   "version": "3.6.4"
  }
 },
 "nbformat": 4,
 "nbformat_minor": 2
}
