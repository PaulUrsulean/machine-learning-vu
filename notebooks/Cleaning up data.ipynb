{
 "cells": [
  {
   "cell_type": "markdown",
   "metadata": {},
   "source": [
    "# Cleaning up data\n",
    "Gathering all training data together and removing instances with missing values. Also adds all other feature columns. Adds features to test set as well."
   ]
  },
  {
   "cell_type": "code",
   "execution_count": 1,
   "metadata": {
    "collapsed": true
   },
   "outputs": [],
   "source": [
    "import pandas as pd"
   ]
  },
  {
   "cell_type": "code",
   "execution_count": 2,
   "metadata": {
    "collapsed": true
   },
   "outputs": [],
   "source": [
    "c1 = pd.read_csv(\"../toxic_comment_data/train.csv\")\n",
    "c2 = pd.read_csv(\"../toxic_comment_data/test_with_solutions.csv\")\n",
    "comments = pd.concat([c1,c2])\n",
    "comments = comments[pd.notnull(comments['Date'])]\n",
    "comments = comments.drop('Usage', axis=1)\n",
    "comments = comments.reset_index(drop=True)\n",
    "comments.to_pickle('../toxic_comment_data/combined_train_data')"
   ]
  },
  {
   "cell_type": "code",
   "execution_count": 2,
   "metadata": {
    "collapsed": true
   },
   "outputs": [],
   "source": [
    "comments = add_feature_columns(comments)\n",
    "test = add_feature_columns(test)\n",
    "test2 = add_feature_columns(test2)"
   ]
  },
  {
   "cell_type": "code",
   "execution_count": 4,
   "metadata": {
    "collapsed": true
   },
   "outputs": [],
   "source": [
    "comments.to_pickle('../toxic_comment_data/combined_train_data.csv')\n",
    "test.to_pickle('../toxic_comment_data/unlabeled_test_set_with_features.csv')\n",
    "test2.to_pickle('../toxic_comment_data/labeled_test_set_with_features.csv')"
   ]
  },
  {
   "cell_type": "code",
   "execution_count": 5,
   "metadata": {
    "collapsed": true
   },
   "outputs": [],
   "source": [
    "comments = pd.read_pickle('../toxic_comment_data/combined_train_data')"
   ]
  }
 ],
 "metadata": {
  "kernelspec": {
   "display_name": "Python 3",
   "language": "python",
   "name": "python3"
  },
  "language_info": {
   "codemirror_mode": {
    "name": "ipython",
    "version": 3
   },
   "file_extension": ".py",
   "mimetype": "text/x-python",
   "name": "python",
   "nbconvert_exporter": "python",
   "pygments_lexer": "ipython3",
   "version": "3.6.3"
  }
 },
 "nbformat": 4,
 "nbformat_minor": 2
}
