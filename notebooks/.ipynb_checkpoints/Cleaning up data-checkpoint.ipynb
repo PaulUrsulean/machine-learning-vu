{
 "cells": [
  {
   "cell_type": "markdown",
   "metadata": {},
   "source": [
    "# Cleaning up data\n",
    "Gathering all training data together and removing instances with missing values. Also adds all other feature columns. Adds features to test set as well."
   ]
  },
  {
   "cell_type": "code",
   "execution_count": 1,
   "metadata": {},
   "outputs": [],
   "source": [
    "import pandas as pd\n",
    "\n",
    "c1 = pd.read_csv(\"../toxic_comment_data/train.csv\")\n",
    "c2 = pd.read_csv(\"../toxic_comment_data/test_with_solutions.csv\")\n",
    "comments = pd.concat([c1,c2])\n",
    "comments = comments[pd.notnull(comments['Date'])]\n",
    "comments = comments.drop('Usage', axis=1)\n",
    "\n",
    "test = pd.read_csv(\"../toxic_comment_data/impermium_verification_set.csv\")\n",
    "test2 = pd.read_csv(\"../toxic_comment_data/impermium_verification_labels.csv\")"
   ]
  },
  {
   "cell_type": "code",
   "execution_count": 2,
   "metadata": {},
   "outputs": [],
   "source": [
    "def true_length(input):\n",
    "    if type(input) is str:\n",
    "        return len(bytes(input, 'ascii').decode('unicode-escape'))\n",
    "    else: \n",
    "        return -1 #arbitrary, should not ever happen with this dataset\n",
    "    \n",
    "def add_feature_columns(dataframe):\n",
    "    # Add length features\n",
    "    dataframe['Raw_Length']  = dataframe['Comment'].str.len()\n",
    "    dataframe['True_Length'] = dataframe['Comment'].apply(lambda x: true_length(x))\n",
    "\n",
    "    col_max = dataframe['True_Length'].max()\n",
    "    col_min = dataframe['True_Length'].min()\n",
    "    dataframe['Norm_True_Length'] = dataframe['True_Length'].apply(lambda x: (x-col_min)/(col_max-col_min))\n",
    "\n",
    "    # Add date features\n",
    "    dataframe['Date'] = pd.to_datetime(dataframe.Date, format='%Y%m%d%H%M%SZ')\n",
    "\n",
    "    dataframe['Weekday'] = dataframe.Date.dt.weekday\n",
    "    dataframe['Day'] = dataframe.Date.dt.day\n",
    "    dataframe['Month'] = dataframe.Date.dt.month\n",
    "    dataframe['Year'] = dataframe.Date.dt.year\n",
    "    dataframe['Hour'] = dataframe.Date.dt.hour\n",
    "    dataframe['Minute'] = dataframe.Date.dt.minute\n",
    "    dataframe['Second'] = dataframe.Date.dt.second\n",
    "    \n",
    "    return dataframe"
   ]
  },
  {
   "cell_type": "code",
   "execution_count": 3,
   "metadata": {},
   "outputs": [],
   "source": [
    "comments = add_feature_columns(comments)\n",
    "test = add_feature_columns(test)\n",
    "test2 = add_feature_columns(test2)"
   ]
  },
  {
   "cell_type": "code",
   "execution_count": 4,
   "metadata": {},
   "outputs": [],
   "source": [
    "comments.to_pickle('../toxic_comment_data/combined_train_data.csv')\n",
    "test.to_pickle('../toxic_comment_data/unlabeled_test_set_with_features.csv')\n",
    "test2.to_pickle('../toxic_comment_data/labeled_test_set_with_features.csv')"
   ]
  },
  {
   "cell_type": "code",
   "execution_count": 5,
   "metadata": {},
   "outputs": [],
   "source": [
    "comments = pd.read_pickle('../toxic_comment_data/combined_train_data')"
   ]
  }
 ],
 "metadata": {
  "kernelspec": {
   "display_name": "Python 3",
   "language": "python",
   "name": "python3"
  },
  "language_info": {
   "codemirror_mode": {
    "name": "ipython",
    "version": 3
   },
   "file_extension": ".py",
   "mimetype": "text/x-python",
   "name": "python",
   "nbconvert_exporter": "python",
   "pygments_lexer": "ipython3",
   "version": "3.6.4"
  }
 },
 "nbformat": 4,
 "nbformat_minor": 2
}
