{
 "cells": [
  {
   "cell_type": "markdown",
   "metadata": {},
   "source": [
    "If you're looking at this file on GitHub, make sure to follow [the instructions for getting set up](https://docs.google.com/document/d/1-LXG5Lb76xQy70W2ZdannnYMEXRLt0CsoiaK0gTkmfY/edit?usp=sharing) first. You should [download these files](https://github.com/pbloem/machine-learning/archive/master.zip) to your machine and run them locally.\n",
    "\n",
    "## Worksheet 1: Numpy and Matplotlib\n",
    "\n",
    "This is a _Jupyter notebook_. It consists of a series of _cells_. Some contain simple text, like this one, and some contain code, like the one below. Read each cell carefully. If it contains code, you can click the \"play\" button above to execute it. Don't execute a new cell until all previous ones have finished executing.\n",
    "\n",
    "**NB: If you go back up an re-run a cell, it can happen that it doesn't work anymore, because the variable names have been re-used. If something doesn't work, for any reason, please try \"Kernel > Restart & Clear Output\" and start again from the top. If the error keeps happening, please post a question on the Canvas message board.**\n",
    "\n",
    "We will assume that you know the basics of Python. If you don't, please work your way through [this tutorial](https://www.learnpython.org/) first to get caught up.\n",
    "\n",
    "The next cell imports the library **numpy** (short for **num**eric **py**thon)."
   ]
  },
  {
   "cell_type": "code",
   "execution_count": 1,
   "metadata": {},
   "outputs": [],
   "source": [
    "import numpy as np"
   ]
  },
  {
   "cell_type": "markdown",
   "metadata": {},
   "source": [
    "If you see something like \"In [1]:\" next to the cell above, execution has finished.\n",
    "\n",
    "## Numpy\n",
    "\n",
    "Numpy is a _Linear Algebra_ library. It allows you to represent, vectors matrices and tensors as Python objects, and to manipulate these in all the ways you'd expect. \n",
    "\n",
    "Most machine learning research uses Linear Algebra as its basic language, so most machine learning _code_ is built on libraries like numpy.\n",
    "\n",
    "Let's start by making a 2 x 2 matrix, filled with some arbitrary numbers."
   ]
  },
  {
   "cell_type": "code",
   "execution_count": 2,
   "metadata": {},
   "outputs": [
    {
     "data": {
      "text/plain": [
       "array([[2, 3],\n",
       "       [4, 5]])"
      ]
     },
     "execution_count": 2,
     "metadata": {},
     "output_type": "execute_result"
    }
   ],
   "source": [
    "np.asarray([[2, 3],[4, 5]])"
   ]
  },
  {
   "cell_type": "markdown",
   "metadata": {},
   "source": [
    "The numpy [documentation](https://docs.scipy.org/doc/numpy-1.13.0/reference/generated/numpy.asarray.html) can tell you more about all of the functions you see here. Each function is annotated with several examples.\n",
    "\n",
    "We can also create a matrix of random numbers between 0.0 and 1.0:"
   ]
  },
  {
   "cell_type": "code",
   "execution_count": 3,
   "metadata": {},
   "outputs": [
    {
     "data": {
      "text/plain": [
       "array([[[[0.23401812, 0.65473882],\n",
       "         [0.97072551, 0.72713797]],\n",
       "\n",
       "        [[0.49978648, 0.68702042],\n",
       "         [0.38472776, 0.44827786]]],\n",
       "\n",
       "\n",
       "       [[[0.92136217, 0.53225255],\n",
       "         [0.06838587, 0.81730448]],\n",
       "\n",
       "        [[0.3868804 , 0.54792732],\n",
       "         [0.46582806, 0.40784943]]]])"
      ]
     },
     "execution_count": 3,
     "metadata": {},
     "output_type": "execute_result"
    }
   ],
   "source": [
    "np.random.rand(2,2,2,2)"
   ]
  },
  {
   "cell_type": "markdown",
   "metadata": {},
   "source": [
    "Note that the numbers change if you execute the cell again. The arguments indicate the _shape_ of the resulting matrix. Try changing the cell above; if you pass rand a single argument, you get a vector. If you pass it more than three arguments, you get a _tensor_ (the higher-dimensional analogue of a matrix).\n",
    "\n",
    "Let's take a slightly bigger matrix, and see what we can do with it. This time, we'll load some actual data:"
   ]
  },
  {
   "cell_type": "code",
   "execution_count": 4,
   "metadata": {
    "scrolled": true
   },
   "outputs": [
    {
     "name": "stdout",
     "output_type": "stream",
     "text": [
      "[[1890.  102.]\n",
      " [1892.  100.]\n",
      " [1893.   99.]\n",
      " ...\n",
      " [1876.   88.]\n",
      " [1850.   65.]\n",
      " [1885.   32.]]\n"
     ]
    }
   ],
   "source": [
    "data = np.loadtxt('./cricketers.sub.csv', delimiter=',')\n",
    "print(data)"
   ]
  },
  {
   "cell_type": "markdown",
   "metadata": {},
   "source": [
    "Each row in this matrix is a professional cricketer from the 19th or 20th century. The first column indicates their year of birth, the second indicates how old they were when the data was collected if they were still alive, or at what age they died, otherwise. \n",
    "\n",
    "Let's start by seeing how many cricketers we have:"
   ]
  },
  {
   "cell_type": "code",
   "execution_count": 5,
   "metadata": {},
   "outputs": [
    {
     "data": {
      "text/plain": [
       "(5960, 2)"
      ]
     },
     "execution_count": 5,
     "metadata": {},
     "output_type": "execute_result"
    }
   ],
   "source": [
    "data.shape"
   ]
  },
  {
   "cell_type": "markdown",
   "metadata": {},
   "source": [
    "Our data has 5960 rows, and two columns. We can ask for a specific element of the matrix by using square brackets to index the matrix. Here is the date of birth and age of the 10th cricketer:"
   ]
  },
  {
   "cell_type": "code",
   "execution_count": 6,
   "metadata": {},
   "outputs": [
    {
     "name": "stdout",
     "output_type": "stream",
     "text": [
      "year of birth  1898.0\n",
      "age  94.0\n"
     ]
    }
   ],
   "source": [
    "print('year of birth ', data[9, 0])\n",
    "print('age ', data[9, 1])"
   ]
  },
  {
   "cell_type": "markdown",
   "metadata": {},
   "source": [
    "**Note that indexing starts from 0.** The first column is column 0, and the second is column 1.\n",
    "\n",
    "The [slicing syntax](https://www.oreilly.com/learning/how-do-i-use-the-slice-notation-in-python) that you know from python lists can also be used for matrices. For instance, here are the first ten cricketers' years of birth:"
   ]
  },
  {
   "cell_type": "code",
   "execution_count": 7,
   "metadata": {},
   "outputs": [
    {
     "data": {
      "text/plain": [
       "array([1890., 1892., 1893., 1894., 1896., 1896., 1897., 1898., 1898.,\n",
       "       1898.])"
      ]
     },
     "execution_count": 7,
     "metadata": {},
     "output_type": "execute_result"
    }
   ],
   "source": [
    "data[0:10, 0]"
   ]
  },
  {
   "cell_type": "markdown",
   "metadata": {},
   "source": [
    "To check that you understand, see if you can predict the result of the following slicing operations (and then execute the cells):"
   ]
  },
  {
   "cell_type": "code",
   "execution_count": 8,
   "metadata": {},
   "outputs": [
    {
     "data": {
      "text/plain": [
       "array([102., 100.,  99.,  98.,  96.,  96.,  95.,  94.,  94.,  94.])"
      ]
     },
     "execution_count": 8,
     "metadata": {},
     "output_type": "execute_result"
    }
   ],
   "source": [
    "data[:10, 1]"
   ]
  },
  {
   "cell_type": "code",
   "execution_count": 9,
   "metadata": {},
   "outputs": [
    {
     "data": {
      "text/plain": [
       "array([[1890.,  102.],\n",
       "       [1892.,  100.],\n",
       "       [1893.,   99.],\n",
       "       [1894.,   98.],\n",
       "       [1896.,   96.],\n",
       "       [1896.,   96.],\n",
       "       [1897.,   95.],\n",
       "       [1898.,   94.],\n",
       "       [1898.,   94.],\n",
       "       [1898.,   94.]])"
      ]
     },
     "execution_count": 9,
     "metadata": {},
     "output_type": "execute_result"
    }
   ],
   "source": [
    "data[0:10, :]"
   ]
  },
  {
   "cell_type": "code",
   "execution_count": 10,
   "metadata": {},
   "outputs": [
    {
     "data": {
      "text/plain": [
       "array([1885.,   32.])"
      ]
     },
     "execution_count": 10,
     "metadata": {},
     "output_type": "execute_result"
    }
   ],
   "source": [
    "data[-1, :]"
   ]
  },
  {
   "cell_type": "markdown",
   "metadata": {},
   "source": [
    "## Matplotlib\n",
    "\n",
    "The first rule of data science is _look at your data_. We can do this easily with the library **matplotlib**. Let's start by importing it."
   ]
  },
  {
   "cell_type": "code",
   "execution_count": 11,
   "metadata": {},
   "outputs": [],
   "source": [
    "import matplotlib.pyplot as plt\n",
    "# ensure that plots are displayed inside the notebook\n",
    "%matplotlib inline "
   ]
  },
  {
   "cell_type": "markdown",
   "metadata": {},
   "source": [
    "We've imported the pyplot sublibrary. This library acts as a \"state machine\", it assumes we are working on a single plot and every command we give changes the state of that plot. This is great for simple plots.\n",
    "\n",
    "For more complicated stuff, you may want to use [the object-oriented interface](https://matplotlib.org/faq/usage_faq.html). This is a little more complicated, but more powerful.\n",
    "\n",
    "For now, we can keep things simple. We want a scatter plot of the first row in the data against the second. We can to this with the plt.scatter() command. It expects at least two arguments: vectors of the same length, indicating the x and y coordinate of each point. In other words, we'll need to slice our data matrix into the first and second columns:"
   ]
  },
  {
   "cell_type": "code",
   "execution_count": 12,
   "metadata": {},
   "outputs": [
    {
     "data": {
      "image/png": "[encoded data removed]",
      "text/plain": [
       "<matplotlib.figure.Figure at 0x10f46b8d0>"
      ]
     },
     "metadata": {},
     "output_type": "display_data"
    }
   ],
   "source": [
    "x = data[:, 0]\n",
    "y = data[:, 1]\n",
    "plt.scatter(x, y);             # the semicolon stops jupyter from printing the result of the last function call"
   ]
  },
  {
   "cell_type": "markdown",
   "metadata": {},
   "source": [
    "Let's make the dots a little smaller, and slightly transparent, to show the structure a little better. See [the documentation](https://matplotlib.org/devdocs/api/_as_gen/matplotlib.pyplot.scatter.html) for more options.\n",
    "\n",
    "Let's also be good data scientists and label our axes."
   ]
  },
  {
   "cell_type": "code",
   "execution_count": null,
   "metadata": {},
   "outputs": [],
   "source": [
    "plt.scatter(x, y, s=3, alpha=0.2)\n",
    "plt.xlabel('year of birth')\n",
    "plt.ylabel('age');"
   ]
  },
  {
   "cell_type": "markdown",
   "metadata": {},
   "source": [
    "The most prominent feature is the dense, diagonal line at the left. Can you explain why this is there?\n",
    "\n",
    "In the middle of the plot, we see two, more noisy, more vague diagonal lines. Can you guess what they represent?\n",
    "\n",
    "To clear this up, we can make a different plot: we can plot the year that the cricketer _died_ against their age. This value isn't given in the data, but it's easy to compute: we just sum their age with their year of birth. Numpy makes this expecially easy by overloading the basic operators like +, -, \\* and /. These are all **element-wise** operators: if we sum two matrices of the same shape, the result will be a matrix (of that shape also), in which each element is the sum of the corresponding elements in the input matrices. \n",
    "\n",
    "In other words, to get the year of death, we can simply do:"
   ]
  },
  {
   "cell_type": "code",
   "execution_count": null,
   "metadata": {
    "collapsed": true
   },
   "outputs": [],
   "source": [
    "year_of_death = data[:,0] + data[:,1]"
   ]
  },
  {
   "cell_type": "markdown",
   "metadata": {},
   "source": [
    "Let's check the distribution first, by plotting a histogram:"
   ]
  },
  {
   "cell_type": "code",
   "execution_count": null,
   "metadata": {},
   "outputs": [],
   "source": [
    "plt.hist(year_of_death);"
   ]
  },
  {
   "cell_type": "markdown",
   "metadata": {},
   "source": [
    "The big bar on the right is not some huge calamity on the cricket world. I just shows the large proportion of cricketers that were still alive when the data was gathered. Let's zoom in a little, and use some more bins to show the finer detail. Again, [the documentation](https://matplotlib.org/devdocs/api/_as_gen/matplotlib.pyplot.hist.html) shows you more options."
   ]
  },
  {
   "cell_type": "code",
   "execution_count": null,
   "metadata": {},
   "outputs": [],
   "source": [
    "plt.hist(year_of_death, bins=100, range=[1870, 1970]);"
   ]
  },
  {
   "cell_type": "markdown",
   "metadata": {},
   "source": [
    "We see a pretty big spike for World War I, but World War II is hidden in the noise. If we return to the scatter plot, se can make it stand out a little more."
   ]
  },
  {
   "cell_type": "code",
   "execution_count": null,
   "metadata": {},
   "outputs": [],
   "source": [
    "plt.scatter(data[:,0]+data[:,1], data[:,1], s=3, alpha=0.2)\n",
    "plt.xlabel('year of death')\n",
    "plt.ylabel('age at death');"
   ]
  },
  {
   "cell_type": "markdown",
   "metadata": {},
   "source": [
    "If you want to save your plot to a file, you can use ``plt.savefig('myplot.pdf')``. The filetype is automatically detected from the extension.\n",
    "\n",
    "## Quick numpy tricks\n",
    "\n",
    "This should give you a basic idea of how numpy works, and how to make simple plots. \n",
    "Numpy is a complex library with many options. We'll finish up by showing you a few important aspects, and pointing you  to some more elaborate tutorials.\n",
    "\n",
    "### Matrix multplication\n",
    "\n",
    "First up: matrix multiplication. For two matrices ``a`` and ``b``, ``a * b`` gives you an element-wise multiplication. What if you want to do a full matrix multiplication? That works like this:"
   ]
  },
  {
   "cell_type": "code",
   "execution_count": null,
   "metadata": {},
   "outputs": [],
   "source": [
    "a = np.asarray([[1, 2],[3, 4]])\n",
    "print(a)\n",
    "b = np.eye(2) # the 2x2 identity matrix\n",
    "\n",
    "print('\\nelement-wise\\n', a * b)\n",
    "\n",
    "print('\\nmatrix multiplication\\n', a.dot(b))"
   ]
  },
  {
   "cell_type": "markdown",
   "metadata": {},
   "source": [
    "### Broadcasting\n",
    "\n",
    "[Broadcasting](https://docs.scipy.org/doc/numpy/user/basics.broadcasting.html) is one of numpy's most complex, and most useful behaviors. Put simply, when you try apply an element-wise operation (like +) to two matrices that don't have the same size, numpy checks if it can stretch one of them to make the sizes match. \n",
    "\n",
    "The simplest example is combining a matrix with a scalar. Let's say we want to add 10 to every element in a matrix. \n"
   ]
  },
  {
   "cell_type": "code",
   "execution_count": null,
   "metadata": {},
   "outputs": [],
   "source": [
    "a + 10"
   ]
  },
  {
   "cell_type": "markdown",
   "metadata": {},
   "source": [
    "Under the hood, numpy dynamically stretches  the scalar 10 our to a matrix of 2x2, filled with 10's and then adds that, element-wise, to ``a``.\n",
    "\n",
    "Here is another example, adding a length 3 vector to a 16x3 matrix:"
   ]
  },
  {
   "cell_type": "code",
   "execution_count": null,
   "metadata": {},
   "outputs": [],
   "source": [
    "a = np.random.rand(16,3)\n",
    "b = np.asarray([0,1,2])\n",
    "a + b"
   ]
  },
  {
   "cell_type": "markdown",
   "metadata": {},
   "source": [
    "If the two matrices being added don't have the same number of dimensions, they are aligned from the last dimensions. In this case, broadcasting was allowed, because the last dimension of ``a`` matched the last dimension of ``b``. If ``b`` had been 16 elements long, we would not be allowed to broadcast (try it).\n",
    "\n",
    "In this case, we could add a dimension, to make ``b`` a 16x1 matrix. The broadcasting rules allow any dimension of size 1 to be stretched to match the other matrix.\n",
    "\n",
    "I'm sure that right now, broadcasting seems quite mysterious. It's enough to be aware that this behavior exists. If you encounter it in action, you'll see how much easier and intuitive it can make things. The numpy documentation provides [a more complete explanation](https://docs.scipy.org/doc/numpy/user/basics.broadcasting.html) if you need one."
   ]
  },
  {
   "cell_type": "markdown",
   "metadata": {},
   "source": [
    "## Final comments\n",
    "\n",
    "That's it for this worksheet. This doesn't make your numpy/matplotlib experts, but it hopefully gives you an indication of how things work, and a safe environment to experiment in. Just click the plus-icon in the toolbar make a new cell, and start playing around with the data.\n",
    "\n",
    "To learn more about **numpy**, you can start here:\n",
    "* [The official numpy quickstart guide](https://docs.scipy.org/doc/numpy-dev/user/quickstart.html)\n",
    "* [A more in-depth tutorial, with in-browser samples](https://www.datacamp.com/community/tutorials/python-numpy-tutorial)\n",
    "* [A very good walk through the most important functions and features](http://cs231n.github.io/python-numpy-tutorial/). From the famous [CS231n course](http://cs231n.github.io/), from Stanford.\n",
    "\n",
    "To dive deeper into **matplotlib**, these are some good jumping-off points:\n",
    "* [The official pyplot tutorial](https://matplotlib.org/users/pyplot_tutorial.html). Note that pyplot can accept basic python lists as well as numpy data.\n",
    "* [A gallery of example MPL plots](https://matplotlib.org/gallery.html). Most of these do not use the pyplot stat-machine interface, but the more low level objects like [Axes](https://matplotlib.org/api/axes_api.html).\n",
    "* [In-depth walk through the main features and plot types](http://www.scipy-lectures.org/intro/matplotlib/matplotlib.html)\n",
    "\n",
    "In the next worksheet, we'll see how to take some numpy data, and apply a machine learning algorithm to it, using the **sklearn** library."
   ]
  },
  {
   "cell_type": "code",
   "execution_count": null,
   "metadata": {
    "collapsed": true
   },
   "outputs": [],
   "source": []
  }
 ],
 "metadata": {
  "kernelspec": {
   "display_name": "Python 3",
   "language": "python",
   "name": "python3"
  },
  "language_info": {
   "codemirror_mode": {
    "name": "ipython",
    "version": 3
   },
   "file_extension": ".py",
   "mimetype": "text/x-python",
   "name": "python",
   "nbconvert_exporter": "python",
   "pygments_lexer": "ipython3",
   "version": "3.6.4"
  }
 },
 "nbformat": 4,
 "nbformat_minor": 1
}
